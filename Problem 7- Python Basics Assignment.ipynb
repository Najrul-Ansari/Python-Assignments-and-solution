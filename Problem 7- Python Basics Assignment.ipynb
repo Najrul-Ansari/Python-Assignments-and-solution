{
 "cells": [
  {
   "cell_type": "code",
   "execution_count": 4,
   "id": "73972b9e",
   "metadata": {},
   "outputs": [
    {
     "name": "stdout",
     "output_type": "stream",
     "text": [
      "My favourite number is 6\n"
     ]
    }
   ],
   "source": [
    "#storing favourite number in a variable\n",
    "fav_num = 6\n",
    "\n",
    "#creating a message to show fav_num\n",
    "message = f'My favourite number is {fav_num}'\n",
    "\n",
    "#printing the message\n",
    "print(message)"
   ]
  },
  {
   "cell_type": "code",
   "execution_count": null,
   "id": "ae69fb3b",
   "metadata": {},
   "outputs": [],
   "source": []
  }
 ],
 "metadata": {
  "kernelspec": {
   "display_name": "Python 3 (ipykernel)",
   "language": "python",
   "name": "python3"
  },
  "language_info": {
   "codemirror_mode": {
    "name": "ipython",
    "version": 3
   },
   "file_extension": ".py",
   "mimetype": "text/x-python",
   "name": "python",
   "nbconvert_exporter": "python",
   "pygments_lexer": "ipython3",
   "version": "3.10.7"
  }
 },
 "nbformat": 4,
 "nbformat_minor": 5
}
