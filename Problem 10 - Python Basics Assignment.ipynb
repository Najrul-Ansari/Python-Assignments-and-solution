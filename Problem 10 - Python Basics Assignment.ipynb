{
 "cells": [
  {
   "cell_type": "code",
   "execution_count": 1,
   "id": "8cb5719e",
   "metadata": {},
   "outputs": [
    {
     "name": "stdout",
     "output_type": "stream",
     "text": [
      "Hello, Eren! I hope you're having a great day.\n",
      "Hello, Armin! I hope you're having a great day.\n",
      "Hello, John! I hope you're having a great day.\n",
      "Hello, Tom! I hope you're having a great day.\n",
      "Hello, Eve! I hope you're having a great day.\n"
     ]
    }
   ],
   "source": [
    "# Creating a list of friend names\n",
    "names = [\"Eren\", \"Armin\", \"John\", \"Tom\", \"Eve\"]\n",
    "\n",
    "# Printing a message for each person\n",
    "for name in names:\n",
    "    message = f\"Hello, {name}! I hope you're having a great day.\"\n",
    "    print(message)"
   ]
  },
  {
   "cell_type": "code",
   "execution_count": null,
   "id": "41960653",
   "metadata": {},
   "outputs": [],
   "source": []
  }
 ],
 "metadata": {
  "kernelspec": {
   "display_name": "Python 3 (ipykernel)",
   "language": "python",
   "name": "python3"
  },
  "language_info": {
   "codemirror_mode": {
    "name": "ipython",
    "version": 3
   },
   "file_extension": ".py",
   "mimetype": "text/x-python",
   "name": "python",
   "nbconvert_exporter": "python",
   "pygments_lexer": "ipython3",
   "version": "3.10.7"
  }
 },
 "nbformat": 4,
 "nbformat_minor": 5
}
