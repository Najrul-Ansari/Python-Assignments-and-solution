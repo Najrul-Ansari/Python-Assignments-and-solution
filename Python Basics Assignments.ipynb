{
 "cells": [
  {
   "cell_type": "markdown",
   "id": "2fa5a9a9",
   "metadata": {},
   "source": [
    "# Python problem and solution - Code by Najrul Ansari"
   ]
  },
  {
   "cell_type": "code",
   "execution_count": 1,
   "id": "7516018f",
   "metadata": {},
   "outputs": [
    {
     "name": "stdout",
     "output_type": "stream",
     "text": [
      "Good Morning\n"
     ]
    }
   ],
   "source": [
    "# Problem - 1\n",
    "# Simple Message: Store a message in a variable, and then print that message.\n",
    "\n",
    "message = \"Good Morning\"\n",
    "print(message)"
   ]
  },
  {
   "cell_type": "code",
   "execution_count": 2,
   "id": "4302d57b",
   "metadata": {},
   "outputs": [
    {
     "name": "stdout",
     "output_type": "stream",
     "text": [
      "Hello, World!\n",
      "This is a new message.\n"
     ]
    }
   ],
   "source": [
    "# Problem - 2\n",
    "# Store a message in a variable and print that message. Then change the \n",
    "# value of your variable to a new message and print the new message.\n",
    "\n",
    "# Storing a message in a variable\n",
    "message = \"Hello, World!\"\n",
    "\n",
    "# Print the  message\n",
    "print(message)\n",
    "\n",
    "# Changing the value of the variable to a new message\n",
    "message = \"This is a new message.\"\n",
    "\n",
    "# Print the new message\n",
    "print(message)"
   ]
  },
  {
   "cell_type": "code",
   "execution_count": 3,
   "id": "60ae76fc",
   "metadata": {},
   "outputs": [
    {
     "name": "stdout",
     "output_type": "stream",
     "text": [
      "Hello Eric, would you like to learn some Python today?\n"
     ]
    }
   ],
   "source": [
    "# Problem - 3\n",
    "# Store a person’s name in a variable and print a message to that person. \n",
    "# Your message should be simple, such as, “Hello Eric, would you like to \n",
    "# learn some Python today?”\n",
    "\n",
    "#storing name in a variable\n",
    "name = \"Eric\"\n",
    "\n",
    "# Creating a message\n",
    "message = f\"Hello {name}, would you like to learn some Python today?\"\n",
    "\n",
    "#prntinf the message\n",
    "print(message)"
   ]
  },
  {
   "cell_type": "code",
   "execution_count": 4,
   "id": "de6f700d",
   "metadata": {},
   "outputs": [
    {
     "name": "stdout",
     "output_type": "stream",
     "text": [
      "Winston Churchill once said, \"Success is not final, failure is not fatal: It is the courage to continue that counts.\"\n"
     ]
    }
   ],
   "source": [
    "# Problem - 4\n",
    "# Find a quote from a famous person you admire. Print the quote and the \n",
    "# name of its author. Your output should look something like the following, \n",
    "# including the quotation marks: Albert Einstein once said, “A person who \n",
    "# never made a mistake never tried anything new.”\n",
    "\n",
    "#Giving quote and author\n",
    "quote = \"Success is not final, failure is not fatal: It is the courage to continue that counts.\"\n",
    "author = \"Winston Churchill\"\n",
    "\n",
    "#printing the quote and author\n",
    "print(f'{author} once said, \"{quote}\"')"
   ]
  },
  {
   "cell_type": "code",
   "execution_count": 5,
   "id": "6c5587d7",
   "metadata": {},
   "outputs": [
    {
     "name": "stdout",
     "output_type": "stream",
     "text": [
      "Winston Churchill once said, \"Success is not final, failure is not fatal: It is the courage to continue that counts.\"\n"
     ]
    }
   ],
   "source": [
    "# Problem - 5\n",
    "# Repeat Exercise 4, but this time store the famous person’s name in a \n",
    "# variable called famous_person. Then compose your message and store it in \n",
    "# a new variable called message. Print your message.\n",
    "\n",
    "#Giving quote and author\n",
    "quote = \"Success is not final, failure is not fatal: It is the courage to continue that counts.\"\n",
    "author = \"Winston Churchill\"\n",
    "\n",
    "#composing a message\n",
    "message = f'{author} once said, \"{quote}\"'\n",
    "\n",
    "#printing the message\n",
    "print(message)"
   ]
  },
  {
   "cell_type": "code",
   "execution_count": 7,
   "id": "80bbdb5a",
   "metadata": {},
   "outputs": [
    {
     "name": "stdout",
     "output_type": "stream",
     "text": [
      "8\n",
      "8\n",
      "8\n",
      "8.0\n"
     ]
    }
   ],
   "source": [
    "# Problem - 6\n",
    "# Write addition, subtraction, multiplication, and division operations that \n",
    "# each result in the number 8. Be sure to enclose your operations in print \n",
    "# statements to see the results. You should create four lines that look like \n",
    "# this: print (5 + 3)\n",
    "# Your output should simply be four lines with the number 8 appearing once \n",
    "# on each line.\n",
    "\n",
    "print(5 + 3)\n",
    "print(10 - 2)\n",
    "print(4 * 2)\n",
    "print(16 / 2)"
   ]
  },
  {
   "cell_type": "code",
   "execution_count": 8,
   "id": "f43a3516",
   "metadata": {},
   "outputs": [
    {
     "name": "stdout",
     "output_type": "stream",
     "text": [
      "My favourite number is 6\n"
     ]
    }
   ],
   "source": [
    "# Problem - 7\n",
    "# Store your favourite number in a variable. Then, using that variable, create \n",
    "# a message that reveals your favourite number. Print that message\n",
    "\n",
    "#storing favourite number in a variable\n",
    "fav_num = 6\n",
    "\n",
    "#creating a message to show fav_num\n",
    "message = f'My favourite number is {fav_num}'\n",
    "\n",
    "#printing the message\n",
    "print(message)"
   ]
  },
  {
   "cell_type": "code",
   "execution_count": 9,
   "id": "0eb0d680",
   "metadata": {},
   "outputs": [
    {
     "name": "stdout",
     "output_type": "stream",
     "text": [
      "Alice\n",
      "Bob\n",
      "Charlie\n",
      "David\n",
      "Eve\n"
     ]
    }
   ],
   "source": [
    "# Problem - 9\n",
    "# Store the names of a few of your friends in a list called names. Print each \n",
    "# person’s name by accessing each element in the list, one at a time.\n",
    "\n",
    "# Create a list of friend names\n",
    "names = [\"Alice\", \"Bob\", \"Charlie\", \"David\", \"Eve\"]\n",
    "\n",
    "# Print each person's name by accessing each element in the list\n",
    "for name in names:\n",
    "    print(name)"
   ]
  },
  {
   "cell_type": "code",
   "execution_count": 10,
   "id": "bde0fb45",
   "metadata": {},
   "outputs": [
    {
     "name": "stdout",
     "output_type": "stream",
     "text": [
      "Hello, Eren! I hope you're having a great day.\n",
      "Hello, Armin! I hope you're having a great day.\n",
      "Hello, John! I hope you're having a great day.\n",
      "Hello, Tom! I hope you're having a great day.\n",
      "Hello, Eve! I hope you're having a great day.\n"
     ]
    }
   ],
   "source": [
    "# Problem - 10\n",
    "# Start with the list you used in Exercise 9, but instead of just printing each \n",
    "# person’s name, print a message to them. The text of each message should \n",
    "# be the same, but each message should be personalized with the person’s\n",
    "# name\n",
    "\n",
    "# Creating a list of friend names\n",
    "names = [\"Eren\", \"Armin\", \"John\", \"Tom\", \"Eve\"]\n",
    "\n",
    "# Printing a message for each person\n",
    "for name in names:\n",
    "    message = f\"Hello, {name}! I hope you're having a great day.\"\n",
    "    print(message)"
   ]
  },
  {
   "cell_type": "code",
   "execution_count": 11,
   "id": "e219b999",
   "metadata": {},
   "outputs": [
    {
     "name": "stdout",
     "output_type": "stream",
     "text": [
      "I would like to own a Honda Motorcycle\n",
      "My favourite car is Jeep\n",
      "I used to ride my bicycle to school\n",
      "Trains are really getting fast day by day\n"
     ]
    }
   ],
   "source": [
    "# Problem - 11\n",
    "# Think of your favourite mode of transportation, such as a motorcycle or a \n",
    "# car, and make a list that stores several examples. Use your list to print a \n",
    "# series of statements about these items, such as “I would like to own a \n",
    "# Honda motorcycle.”\n",
    "\n",
    "#creating a list of mode of transport\n",
    "modeoftransport = [\"motorcycle\", \"car\", \"bicycle\", \"train\"]\n",
    "\n",
    "#creating a loop to print statements for different modes of transportation\n",
    "for i in modeoftransport:\n",
    "    if i == \"motorcycle\":\n",
    "        print(\"I would like to own a Honda Motorcycle\")\n",
    "        \n",
    "    elif i == \"car\":\n",
    "        print(\"My favourite car is Jeep\")\n",
    "        \n",
    "    elif i == \"bicycle\":\n",
    "        print(\"I used to ride my bicycle to school\")\n",
    "        \n",
    "    elif i==\"train\":\n",
    "        print(\"Trains are really getting fast day by day\")\n",
    "              \n",
    "    else:\n",
    "        print(\"..........\")"
   ]
  },
  {
   "cell_type": "code",
   "execution_count": null,
   "id": "45710969",
   "metadata": {},
   "outputs": [],
   "source": []
  }
 ],
 "metadata": {
  "kernelspec": {
   "display_name": "Python 3 (ipykernel)",
   "language": "python",
   "name": "python3"
  },
  "language_info": {
   "codemirror_mode": {
    "name": "ipython",
    "version": 3
   },
   "file_extension": ".py",
   "mimetype": "text/x-python",
   "name": "python",
   "nbconvert_exporter": "python",
   "pygments_lexer": "ipython3",
   "version": "3.10.7"
  }
 },
 "nbformat": 4,
 "nbformat_minor": 5
}
