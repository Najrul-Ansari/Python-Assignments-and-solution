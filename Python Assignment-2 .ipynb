{
 "cells": [
  {
   "cell_type": "markdown",
   "id": "722cd5f0",
   "metadata": {},
   "source": [
    "# Python problem and solution - Code by Najrul Ansari"
   ]
  },
  {
   "cell_type": "markdown",
   "id": "9b95e11a",
   "metadata": {},
   "source": [
    "## Task - 1"
   ]
  },
  {
   "cell_type": "code",
   "execution_count": 2,
   "id": "8fcb85ec",
   "metadata": {},
   "outputs": [
    {
     "name": "stdout",
     "output_type": "stream",
     "text": [
      "Enter Ramesh's basic Salary: 20000\n",
      "Ramesh's gross salary is 32000.0\n"
     ]
    }
   ],
   "source": [
    "#Problem 1\n",
    "# Ramesh's basic salary is input through the keyboard. His dearness allowance is 40% of \n",
    "# basic salary, and house rent allowance is 20% of basic salary. Write a program to calculate \n",
    "# his gross salary.\n",
    "\n",
    "#taking Ramesh's salary as input from the user\n",
    "basic_salary = float(input(\"Enter Ramesh's basic Salary: \"))\n",
    "\n",
    "#calculating DA(40% of basic salary)\n",
    "dearness_allowance = 0.4 * basic_salary\n",
    "\n",
    "#calculating house rent allowance(20% of basic salary)\n",
    "house_rent_allowance = 0.2 * basic_salary\n",
    "\n",
    "#calculating Gross salary( basic + DA + house rent allowance)\n",
    "gross_salary = basic_salary + dearness_allowance + house_rent_allowance\n",
    "\n",
    "#printing gross salary\n",
    "print(f\"Ramesh's gross salary is {gross_salary}\")"
   ]
  },
  {
   "cell_type": "code",
   "execution_count": 6,
   "id": "c2c63d81",
   "metadata": {},
   "outputs": [
    {
     "name": "stdout",
     "output_type": "stream",
     "text": [
      "Enter the distance: 20.236\n",
      "Distance in meters: 20236.0 meters\n",
      "Distance in feet: 66391.07824 feet\n",
      "Distance in inches: 796692.91338264 inches\n",
      "Distance in centimeters: 2023600.0 centimeters\n"
     ]
    }
   ],
   "source": [
    "#Problem-2\n",
    "# The distance between two cities (in km.) is input through the keyboard. Write a program \n",
    "# to convert and print this distance in meters, feet, inches and centimeters.\n",
    "\n",
    "#Taking as input the distance between two cities (in km.)\n",
    "dist_km = float(input(\"Enter the distance: \"))\n",
    "\n",
    "#Converting the distance into meters: 1 kilometer = 1000 meters\n",
    "dist_m = dist_km * 1000\n",
    "\n",
    "#Converting the distance into feet:1 km = 3280.84 ft \n",
    "dist_feet = dist_km * 3280.84\n",
    "\n",
    "#Converting the distance into inches: 1 km =  39,370.07874 inches\n",
    "dist_inch = dist_km * 39370.07874\n",
    "\n",
    "#Converting the distance into cm: 1 km = 100000 cm\n",
    "dist_cm = dist_km * 100000\n",
    "\n",
    "#printing the result\n",
    "print(f\"Distance in meters: {dist_m} meters\")\n",
    "print(f\"Distance in feet: {dist_feet} feet\")\n",
    "print(f\"Distance in inches: {dist_inch} inches\")\n",
    "print(f\"Distance in centimeters: {dist_cm} centimeters\")"
   ]
  },
  {
   "cell_type": "code",
   "execution_count": 8,
   "id": "e9e20702",
   "metadata": {},
   "outputs": [
    {
     "name": "stdout",
     "output_type": "stream",
     "text": [
      "Enter the marks obtained in subject 1: 75\n",
      "Enter the marks obtained in subject 2: 72\n",
      "Enter the marks obtained in subject 3: 80\n",
      "Enter the marks obtained in subject 4: 60\n",
      "Enter the marks obtained in subject 5: 55\n",
      "The total marks obtained by the student is 342.0 and his percentage is 68.4%\n"
     ]
    }
   ],
   "source": [
    "# Problem- 3\n",
    "# If the marks obtained by a student in five different subjects are input through the \n",
    "# keyboard, find out the aggregate marks and percentage marks obtained by the student. \n",
    "# Assume that the maximum marks that can be obtained by a student in each subject is 100.\n",
    "\n",
    "#taking the marks obtained by a student as input\n",
    "marks1 = float(input(\"Enter the marks obtained in subject 1: \"))\n",
    "marks2 = float(input(\"Enter the marks obtained in subject 2: \"))\n",
    "marks3 = float(input(\"Enter the marks obtained in subject 3: \"))\n",
    "marks4 = float(input(\"Enter the marks obtained in subject 4: \"))\n",
    "marks5 = float(input(\"Enter the marks obtained in subject 5: \"))\n",
    "\n",
    "#calculating aggregate marks\n",
    "total_marks = marks1 + marks2 + marks3 + marks4 + marks5\n",
    "\n",
    "##calculating the % obtained\n",
    "percent = total_marks/5\n",
    "\n",
    "#printing the results \n",
    "print(f\"The total marks obtained by the student is {total_marks} and his percentage is {percent}%\")\n"
   ]
  },
  {
   "cell_type": "code",
   "execution_count": 1,
   "id": "1709b6f0",
   "metadata": {},
   "outputs": [
    {
     "name": "stdout",
     "output_type": "stream",
     "text": [
      "Enter the temperature: 78.2\n",
      "The temperature in Celsius is 25.67 °C \n"
     ]
    }
   ],
   "source": [
    "#problem - 4\n",
    "# Temperature of a city in Fahrenheit degrees is input through the keyboard. Write a \n",
    "# program to convert this temperature into Centigrade degrees.\n",
    "\n",
    "#taking the temperature in Fahrenheit degrees as input\n",
    "temp_fahr = float(input(\"Enter the temperature: \"))\n",
    "\n",
    "#converting Fahrenheit to centigrade\n",
    "temp_celsius = (temp_fahr - 32) * 5/9\n",
    "rounded_temp_celsius = round(temp_celsius, 2)\n",
    "\n",
    "#printing the result\n",
    "print(f\"The temperature in Celsius is {rounded_temp_celsius} °C \")"
   ]
  },
  {
   "cell_type": "code",
   "execution_count": 6,
   "id": "207d07a7",
   "metadata": {},
   "outputs": [
    {
     "name": "stdout",
     "output_type": "stream",
     "text": [
      "Enter the length of the rectangle: 5\n",
      "Enter the breath of the rectangle: 4\n",
      "Enter the radius of the circle: 3\n",
      "Area of the rectangle: 20.0\n",
      "Perimeter of the rectangle: 18.0\n",
      "Area of the circle: 28.27\n",
      "Circumference of the circle: 18.85\n"
     ]
    }
   ],
   "source": [
    "# Problem - 5\n",
    "# The length & breadth of a rectangle and radius of a circle are input through the \n",
    "# keyboard. Write a program to calculate the area & perimeter of the rectangle, and the area \n",
    "# & circumference of the circle.\n",
    "\n",
    "#importing math function\n",
    "import math\n",
    "\n",
    "#Taking the measurement as input\n",
    "length = float(input(\"Enter the length of the rectangle: \"))\n",
    "breadth = float(input(\"Enter the breath of the rectangle: \"))\n",
    "r = float(input(\"Enter the radius of the circle: \"))\n",
    "\n",
    "#calculating area & perimeter of rectangle and area and circumference of circle\n",
    "area_rec = length * breadth\n",
    "perimeter_rec = 2*(length + breadth)\n",
    "area_circle = math.pi *r*r\n",
    "circumference_circle = 2 * math.pi *r\n",
    "\n",
    "# Rounding the results\n",
    "rounded_area_circle = round(area_circle, 2)\n",
    "rounded_circumference_circle = round(circumference_circle, 2)\n",
    "\n",
    "#printing the results\n",
    "print(\"Area of the rectangle:\",area_rec)\n",
    "print(\"Perimeter of the rectangle:\",perimeter_rec)\n",
    "print(\"Area of the circle:\",rounded_area_circle)\n",
    "print(\"Circumference of the circle:\",rounded_circumference_circle)"
   ]
  },
  {
   "cell_type": "code",
   "execution_count": 7,
   "id": "298af856",
   "metadata": {},
   "outputs": [
    {
     "name": "stdout",
     "output_type": "stream",
     "text": [
      "Enter the first number (C): 40\n",
      "Enter the second number (D): 30\n",
      "After interchange:\n",
      "C: 30.0\n",
      "D: 40.0\n"
     ]
    }
   ],
   "source": [
    "# Problem - 6\n",
    "# Two numbers are input through the keyboard into two locations C and D. Write a \n",
    "# program to interchange the contents of C and D.\n",
    "\n",
    "# Input two numbers and store them in C and D\n",
    "C = float(input(\"Enter the first number (C): \"))\n",
    "D = float(input(\"Enter the second number (D): \"))\n",
    "\n",
    "# Interchange the contents of C and D using a temporary variable\n",
    "A = C\n",
    "C = D\n",
    "D = A\n",
    "\n",
    "# Displaying the updated values of C and D\n",
    "print(f\"After interchange:\")\n",
    "print(f\"C: {C}\")\n",
    "print(f\"D: {D}\")\n"
   ]
  },
  {
   "cell_type": "code",
   "execution_count": 9,
   "id": "c17ac0c3",
   "metadata": {},
   "outputs": [
    {
     "name": "stdout",
     "output_type": "stream",
     "text": [
      "Enter a five-digit number: 25468\n",
      "Sum of the digits: 25\n"
     ]
    }
   ],
   "source": [
    "# Problem - 7 \n",
    "# If a five-digit number is input through the keyboard, write a program to calculate the \n",
    "# sum of its digits. ( Hint: Use the modulus operator '%')\n",
    "\n",
    "# Input a five-digit number\n",
    "num = int(input(\"Enter a five-digit number: \"))\n",
    "\n",
    "# Check if the input has exactly five digits\n",
    "if num >= 10000 and num <= 99999:\n",
    "    # Calculate the sum of the digits\n",
    "    digit1 = number % 10\n",
    "    number //= 10\n",
    "    digit2 = number % 10\n",
    "    number //= 10\n",
    "    digit3 = number % 10\n",
    "    number //= 10\n",
    "    digit4 = number % 10\n",
    "    digit5 = number // 10  # The remaining number is the fifth digit\n",
    "\n",
    "    # Calculate the sum of the digits\n",
    "    digit_sum = digit1 + digit2 + digit3 + digit4 + digit5\n",
    "\n",
    "    # Display the sum of the digits\n",
    "    print(f\"Sum of the digits: {digit_sum}\")\n",
    "else:\n",
    "    print(\"Please enter a valid five-digit number.\")\n"
   ]
  },
  {
   "cell_type": "code",
   "execution_count": 10,
   "id": "70dd4451",
   "metadata": {},
   "outputs": [
    {
     "name": "stdout",
     "output_type": "stream",
     "text": [
      "Enter a five-digit number: 25468\n",
      "The reversed number is: 86452\n"
     ]
    }
   ],
   "source": [
    "# Problem - 8\n",
    "# If a five-digit number is input through the keyboard, write a program to reverse the \n",
    "# number.\n",
    "\n",
    "#taking input from the user\n",
    "num = int(input(\"Enter a five-digit number: \"))\n",
    "    \n",
    "if num >= 10000 and num <=99999:\n",
    "    # Converting the number to a string, reverse it, and then convert it back to an integer\n",
    "    rev_num = int(str(num)[::-1])\n",
    "    print(f\"The reversed number is: {rev_num}\")\n",
    "else:\n",
    "    print(\"Please enter a valid five-digit number.\")\n"
   ]
  },
  {
   "cell_type": "code",
   "execution_count": 12,
   "id": "cd04c85c",
   "metadata": {},
   "outputs": [
    {
     "name": "stdout",
     "output_type": "stream",
     "text": [
      "Enter a four-digit number: 6814\n",
      "The sum of the first and last digits is: 10\n"
     ]
    }
   ],
   "source": [
    "# Problem - 9\n",
    "# If a four-digit number is input through the keyboard, write a program to obtain the sum \n",
    "# of the first and last digit of this number.\n",
    "\n",
    "num = int(input(\"Enter a four-digit number: \"))\n",
    "    \n",
    "if 1000 <= num <= 9999:\n",
    "    # Extract the first digit and the last digit\n",
    "    first_digit = num // 1000\n",
    "    last_digit = num % 10\n",
    "\n",
    "    # Calculate the sum of the first and last digits\n",
    "    digit_sum = first_digit + last_digit\n",
    "        \n",
    "    print(f\"The sum of the first and last digits is: {digit_sum}\")\n",
    "else:\n",
    "    print(\"Please enter a valid four-digit number.\") "
   ]
  },
  {
   "cell_type": "code",
   "execution_count": 13,
   "id": "3b9b259b",
   "metadata": {},
   "outputs": [
    {
     "name": "stdout",
     "output_type": "stream",
     "text": [
      "The total number of illeterate men are 13600.0\n",
      "The total number of illeterate women are 28000.0\n"
     ]
    }
   ],
   "source": [
    "# Problem - 10\n",
    "# In a town, the percentage of men is 52. The percentage of total literacy is 48. If total \n",
    "# percentage of literate men is 35 of the total population, write a program to find the total \n",
    "# number of illiterate men and women if the population of the town is 80,000.\n",
    "\n",
    "#Given data \n",
    "total_population = 80000\n",
    "percentage_men = 52\n",
    "percentage_literacy = 48\n",
    "percentage_literate_men = 35\n",
    "\n",
    "#calculating total number of men\n",
    "total_men = total_population * 0.52\n",
    "\n",
    "#calcilating total women\n",
    "total_women = total_population - total_men\n",
    "\n",
    "#calculating total number of literate people\n",
    "total_literate = total_population * 0.48\n",
    "\n",
    "#calculating total number of literate men \n",
    "total_literate_men = total_population * 0.35\n",
    "\n",
    "#calculating total illeterate men \n",
    "total_illeterate_men = total_men - total_literate_men\n",
    "\n",
    "##calculating total illeterate women\n",
    "total_illeterate_women = total_women - (total_literate - total_literate_men)\n",
    "\n",
    "#printitng the results\n",
    "print(f\"The total number of illeterate men are {total_illeterate_men}\")\n",
    "print(f\"The total number of illeterate women are {total_illeterate_women}\")"
   ]
  },
  {
   "cell_type": "code",
   "execution_count": 14,
   "id": "c76db6fa",
   "metadata": {},
   "outputs": [
    {
     "name": "stdout",
     "output_type": "stream",
     "text": [
      "Enter the amount: 50000\n",
      "The number of currency notes for denomination of 10 for 50000 is 5000.0\n",
      "The number of currency notes for denomination of 50 for 50000 is 1000.0\n",
      "The number of currency notes for denomination of 100 for 50000 is 500.0\n"
     ]
    }
   ],
   "source": [
    "# Problem - 11\n",
    "# A cashier has currency notes of denominations 10, 50 and 100. If the amount to be \n",
    "# withdrawn is input through the keyboard in hundreds, find the total number of currency \n",
    "# notes of each denomination the cashier will have to give to the withdrawer.\n",
    "\n",
    "#taking input the amount to be withdrawn\n",
    "amount = int(input(\"Enter the amount: \"))\n",
    "\n",
    "#calculating the number of currency notes of each denomination for the entered amount\n",
    "deno_10 = amount/10\n",
    "deno_50 = amount/50\n",
    "deno_100 = amount/100\n",
    "\n",
    "#printing the answer\n",
    "print(f\"The number of currency notes for denomination of 10 for {amount} is {deno_10}\")\n",
    "print(f\"The number of currency notes for denomination of 50 for {amount} is {deno_50}\")\n",
    "print(f\"The number of currency notes for denomination of 100 for {amount} is {deno_100}\")"
   ]
  },
  {
   "cell_type": "code",
   "execution_count": 15,
   "id": "e4690f6c",
   "metadata": {},
   "outputs": [
    {
     "name": "stdout",
     "output_type": "stream",
     "text": [
      "Enter the Selling Price of 15 items: 1500\n",
      "Enter the Profit of 15 items: 150\n",
      "The cost of 1 item is 90.0\n"
     ]
    }
   ],
   "source": [
    "# Problem - 12\n",
    "# If the total selling price of 15 items and the total profit earned on them is input through \n",
    "# the keyboard, write a program to find the cost price of one item.\n",
    "\n",
    "#taking sp of 15 items as input\n",
    "sp = float(input(\"Enter the Selling Price of 15 items: \"))\n",
    "profit = float(input(\"Enter the Profit of 15 items: \"))\n",
    "\n",
    "#calculating the sp and profit for per item \n",
    "sp_per_item = sp/15\n",
    "profit_per_item = profit/15\n",
    "\n",
    "#calculating the cost prce\n",
    "cp_per_item = sp_per_item - profit_per_item\n",
    "\n",
    "#printing the result\n",
    "print(f\"The cost of 1 item is {cp_per_item}\")"
   ]
  },
  {
   "cell_type": "code",
   "execution_count": 16,
   "id": "2ae51648",
   "metadata": {
    "scrolled": true
   },
   "outputs": [
    {
     "name": "stdout",
     "output_type": "stream",
     "text": [
      "Enter a five-digit number: 25468\n",
      "New number by adding 1 to each digit: 36579\n"
     ]
    }
   ],
   "source": [
    "# Problem - 13\n",
    "# If a five-digit number is input through the keyboard, write a program to print a new \n",
    "# number by adding one to each of its digits. For example, if the number that is input is \n",
    "# 12391 then the output should be displayed as 23402.\n",
    "\n",
    "# Input a five-digit number\n",
    "num = int(input(\"Enter a five-digit number: \"))\n",
    "\n",
    "# Check if the input has exactly five digits\n",
    "if num >= 10000 and num <= 99999:\n",
    "    # Calculate the sum of the digits\n",
    "    digit1 = num // 10000 % 10\n",
    "    \n",
    "    digit2 = num // 1000 % 10\n",
    "    \n",
    "    digit3 = num // 100 % 10\n",
    "   \n",
    "    digit4 = num // 10 % 10\n",
    "    digit5 = num % 10  # The remaining number is the fifth digit\n",
    "\n",
    "    # adding 1 to each number \n",
    "    new_num = str(digit1 + 1) + str(digit2 + 1) + str(digit3 + 1) + str(digit4 + 1) + str(digit5 + 1)\n",
    "\n",
    "    #converting the nummber from string to integer\n",
    "    int_num = int(new_num)\n",
    "    \n",
    "    # printing the new number \n",
    "    print(f\"New number by adding 1 to each digit: {int_num}\")\n",
    "else:\n",
    "    print(\"Please enter a valid five-digit number.\")"
   ]
  },
  {
   "cell_type": "markdown",
   "id": "4926cd13",
   "metadata": {},
   "source": [
    "# Task - 2"
   ]
  },
  {
   "cell_type": "code",
   "execution_count": 18,
   "id": "6e8cbb97",
   "metadata": {},
   "outputs": [
    {
     "name": "stdout",
     "output_type": "stream",
     "text": [
      "Enter the quantity of item purchased: 15\n",
      "Enter the price of the item: 150\n",
      "Your total expenses are 2025.0\n"
     ]
    }
   ],
   "source": [
    "# Problem-1\n",
    "# While purchasing certain items, a discount of 10% is offered if the quantity purchased is \n",
    "# more than 10. If quantity and price per item are input through the keyboard, write a \n",
    "# program to calculate the total expenses\n",
    "\n",
    "#Taking quantity and price per item as input\n",
    "quantity = float(input(\"Enter the quantity of item purchased: \"))\n",
    "price_per_item = float(input(\"Enter the price of the item: \"))\n",
    "\n",
    "#calculating total expenses\n",
    "if quantity >= 10:\n",
    "    discount = (quantity * price_per_item) * .10\n",
    "    cost = (quantity * price_per_item) - discount\n",
    "    \n",
    "else:\n",
    "    cost = quantity * price_per_item\n",
    "    \n",
    "#printing the results\n",
    "print(f\"Your total expenses are {cost}\")"
   ]
  },
  {
   "cell_type": "code",
   "execution_count": 19,
   "id": "0099e8f9",
   "metadata": {},
   "outputs": [
    {
     "name": "stdout",
     "output_type": "stream",
     "text": [
      "Enter current year: 2023\n",
      "Enter joining year: 2014\n",
      "The employee is eligible for a bonus of Rs. 2500/-\n"
     ]
    }
   ],
   "source": [
    "# Problem - 2\n",
    "# The current year and the year in which the employee joined the organization are entered \n",
    "# through the keyboard. If the number of years for which the employee has served the \n",
    "# organization is greater than 3 then a bonus of Rs. 2500/- is given to the employee. If the \n",
    "# years of service are not greater than 3, then the program should do nothing.\n",
    "\n",
    "#taking the current year and the year in which the employee joined as input\n",
    "current_year = int(input(\"Enter current year: \"))\n",
    "joining_year = int(input(\"Enter joining year: \"))\n",
    "\n",
    "difference = current_year - joining_year\n",
    "\n",
    "#using if function to chech if the employee should get bonus\n",
    "if difference >= 3:\n",
    "    print(\"The employee is eligible for a bonus of Rs. 2500/-\")\n",
    "    \n",
    "else:\n",
    "    print(\"Enter a valid year.\")\n"
   ]
  },
  {
   "cell_type": "code",
   "execution_count": 20,
   "id": "f8b7b8ad",
   "metadata": {},
   "outputs": [
    {
     "name": "stdout",
     "output_type": "stream",
     "text": [
      "Enter Basic salary: 1500\n",
      "The gross salary of the employee is 3470.0\n"
     ]
    }
   ],
   "source": [
    "# Problem - 3\n",
    "# If his basic salary is less than Rs. 1500, then HRA = 10% of basic salary and DA = 90% of \n",
    "# basic salary. If his salary is either equal to or above Rs. 1500, then HRA = Rs. 500 and DA = \n",
    "# 98% of basic salary. If the employee's salary is input through the keyboard write a program \n",
    "# to find his gross salary\n",
    "\n",
    "#taking basic salary as input\n",
    "basic_salary = float(input(\"Enter Basic salary: \"))\n",
    "\n",
    "#using if function to calculate gross salary\n",
    "if basic_salary < 1500:\n",
    "    hra = basic_salary * 0.10\n",
    "    da = basic_salary * 0.90\n",
    "    gross_salary = basic_salary + hra + da\n",
    "    \n",
    "elif basic_salary >= 1500:\n",
    "    hra = 500\n",
    "    da = basic_salary * 0.98\n",
    "    gross_salary = basic_salary + hra + da\n",
    "    \n",
    "else:\n",
    "    print(\".....ERROR.....\")\n",
    "    \n",
    "print(f\"The gross salary of the employee is {gross_salary}\")"
   ]
  },
  {
   "cell_type": "code",
   "execution_count": 21,
   "id": "6ea5cc2f",
   "metadata": {},
   "outputs": [
    {
     "name": "stdout",
     "output_type": "stream",
     "text": [
      "Enter marks for subject 1: 75\n",
      "Enter marks for subject 2: 72\n",
      "Enter marks for subject 3: 80\n",
      "Enter marks for subject 4: 65\n",
      "Enter marks for subject 5: 55\n",
      "The student passed with First Division\n",
      "Stident's total marks is 347 and percentage is 69.4\n"
     ]
    }
   ],
   "source": [
    "# Problem - 4\n",
    "# The marks obtained by a student in 5 different subjects are input through the keyboard. \n",
    "# The student gets a division as per the following rules: Write a program to calculate the \n",
    "# division obtained by the student.\n",
    "# a. Percentage above or equal to 60 - First division\n",
    "# b. Percentage between 50 and 59 - Second division\n",
    "# c. Percentage between 40 and 49 - Third division\n",
    "# d. Percentage less than 40 – Fail\n",
    "\n",
    "# taking the marks obtained the student in 5 different subject as input\n",
    "m1 = int(input(\"Enter marks for subject 1: \"))\n",
    "m2 = int(input(\"Enter marks for subject 2: \"))\n",
    "m3 = int(input(\"Enter marks for subject 3: \"))\n",
    "m4 = int(input(\"Enter marks for subject 4: \"))\n",
    "m5 = int(input(\"Enter marks for subject 5: \"))\n",
    "\n",
    "total_marks = m1 + m2 + m3 + m4 + m5\n",
    "percent = total_marks/5\n",
    "\n",
    "#giving division as per ttheir percentage\n",
    "if percent >= 60:\n",
    "    print(\"The student passed with First Division\")\n",
    "elif percent >= 50:\n",
    "    print(\"The student passed with Second Division\")\n",
    "elif percent >= 40:\n",
    "    print(\"The student passed with Third Division\")\n",
    "elif percent < 40:\n",
    "    print(\"Sorry!!! But the student has failed the examination\")\n",
    "else:\n",
    "    print(\".....ERROR.....\")\n",
    "    \n",
    "print(f\"Stident's total marks is {total_marks} and percentage is {percent}\")\n",
    "    "
   ]
  },
  {
   "cell_type": "code",
   "execution_count": 3,
   "id": "ba009b1a",
   "metadata": {},
   "outputs": [
    {
     "name": "stdout",
     "output_type": "stream",
     "text": [
      "Is the driver married (yes/no): Yes\n",
      "Enter driver's gender (male/female): Female\n",
      "Enter driver's age: 26\n",
      "The driver is eligible for insurance\n"
     ]
    }
   ],
   "source": [
    "# Problem - 5\n",
    "# A company insures its drivers in the following cases:\n",
    "# a. If the driver is married.\n",
    "# b. If the driver is unmarried, male & above 30 years of age.\n",
    "# c. If the driver is unmarried, female & above 25 years of age.\n",
    "\n",
    "#taking info as input\n",
    "marital_status = input(\"Is the driver married (yes/no): \").lower()\n",
    "gender = input(\"Enter driver's gender (male/female): \").lower()\n",
    "age = int(input(\"Enter driver's age: \"))\n",
    "\n",
    "#checking if the driver is eligible for insurance or not\n",
    "if marital_status == \"yes\":\n",
    "    print(\"The driver is eligible for insurance\")\n",
    "elif marital_status == \"no\"and gender == \"male\" and age > 30:\n",
    "    print(\"The driver is eligible for insurance\")\n",
    "elif marital_status == \"no\" and gender == \"female\" and age > 25:\n",
    "    print(\"The driver is eligible for insurance\")\n",
    "else:\n",
    "    print(\"The driver is not eligible for insurance\")\n",
    "    "
   ]
  },
  {
   "cell_type": "code",
   "execution_count": 6,
   "id": "8a96ea2f",
   "metadata": {},
   "outputs": [
    {
     "name": "stdout",
     "output_type": "stream",
     "text": [
      "Enter Gender (male/female): male\n",
      "Enter years of service: 12\n",
      "Enter qualification (post-graduate/graduate): post-graduate\n",
      "The salary is 15000\n"
     ]
    }
   ],
   "source": [
    "# Problem - 6\n",
    "\n",
    "#taking information as input\n",
    "gender = input(\"Enter Gender (male/female): \").lower()\n",
    "years_of_service = int(input(\"Enter years of service: \"))\n",
    "qualification = input(\"Enter qualification (post-graduate/graduate): \").lower()\n",
    "\n",
    "if gender == \"male\":\n",
    "    if years_of_service >= 10:\n",
    "        if qualification ==\"post-graduate\":\n",
    "            print(\"The salary is 15000\")\n",
    "        else:\n",
    "            print(\"The salary is 10000\")\n",
    "    else:\n",
    "        if qualification ==\"post-graduate\":\n",
    "            print(\"The salary is 10000\")\n",
    "        else:\n",
    "            print(\"The salary is 7000\")\n",
    "            \n",
    "elif gender == \"female\":\n",
    "    if years_of_service >= 10:\n",
    "        if qualification ==\"post-graduate\":\n",
    "            print(\"The salary is 12000\")\n",
    "        else:\n",
    "            print(\"The salary is 9000\")\n",
    "    else:\n",
    "        if qualification ==\"post-graduate\":\n",
    "            print(\"The salary is 10000\")\n",
    "        else:\n",
    "            print(\"The salary is 6000\")\n",
    "            \n",
    "else:\n",
    "    print(\"Invalid gender entered\")\n",
    "        "
   ]
  },
  {
   "cell_type": "code",
   "execution_count": 10,
   "id": "eabe75cc",
   "metadata": {},
   "outputs": [
    {
     "name": "stdout",
     "output_type": "stream",
     "text": [
      "Enter the cost price of the item: 25\n",
      "Enter the selling price of the item: 30\n",
      "The seller has made a profit of ₹.5.0\n"
     ]
    }
   ],
   "source": [
    "# Problem-7\n",
    "# If cost price and selling price of an item is input through the keyboard, write a program \n",
    "# to determine whether the seller has made profit or incurred loss. Also determine how \n",
    "# much profit he made or loss he incurred.\n",
    "\n",
    "#taking cost price and sellinf price of an item as input\n",
    "cp = float(input(\"Enter the cost price of the item: \"))\n",
    "sp = float(input(\"Enter the selling price of the item: \"))\n",
    "\n",
    "profit_loss = sp - cp\n",
    "\n",
    "if profit_loss > 0:\n",
    "    print(f\"The seller has made a profit of ₹.{profit_loss}\")\n",
    "elif profit_loss < 0:\n",
    "    print(f\"The seller has made a loss of ₹.{profit_loss}\")\n",
    "else:\n",
    "    print(\"There is no profit/loss\")\n",
    "    \n"
   ]
  },
  {
   "cell_type": "code",
   "execution_count": 25,
   "id": "2d8d9142",
   "metadata": {},
   "outputs": [
    {
     "name": "stdout",
     "output_type": "stream",
     "text": [
      "Enter a number: 25\n",
      "25 is an odd number.\n"
     ]
    }
   ],
   "source": [
    "# Problem-8\n",
    "# Any integer is input through the keyboard. Write a program to find out whether it is an \n",
    "# odd number or even number. (Hint: Use the % (modulus) operator)\n",
    "\n",
    "#taking number as input\n",
    "num = int(input(\"Enter a number: \"))\n",
    "\n",
    "#checking whether it is an odd number or even number\n",
    "if num < 1:\n",
    "    print(\"Enter a positive number.\")\n",
    "    \n",
    "elif num == 1:\n",
    "    print(f\"{num} is an odd number.\")\n",
    "    \n",
    "elif num > 1:\n",
    "    if num % 2 == 0:\n",
    "        print(f\"{num} is an even number.\")\n",
    "    else:\n",
    "        print(f\"{num} is an odd number.\")\n",
    "        \n",
    "else:\n",
    "    print(\".....ERROR.....\")\n",
    "    "
   ]
  },
  {
   "cell_type": "code",
   "execution_count": 30,
   "id": "5ee44e3e",
   "metadata": {},
   "outputs": [
    {
     "name": "stdout",
     "output_type": "stream",
     "text": [
      "Enter a five-digit number: 25468\n",
      "The reversed number is: 86452\n",
      "86452 and 25468 are not equal\n"
     ]
    }
   ],
   "source": [
    "# Problem-9\n",
    "# A five-digit number is entered through the keyboard. Write a program to obtain the \n",
    "# reversed number and to determine whether the original and reversed numbers are equal \n",
    "# or not.\n",
    "\n",
    "#taking input from the user\n",
    "num = int(input(\"Enter a five-digit number: \"))\n",
    "    \n",
    "if num >= 10000 and num <=99999:\n",
    "    # Converting the number to a string, reverse it, and then convert it back to an integer\n",
    "    rev_num = int(str(num)[::-1])\n",
    "    print(f\"The reversed number is: {rev_num}\")\n",
    "    \n",
    "    if num == rev_num:\n",
    "        print(f\"{rev_num} and {num} are equal\")\n",
    "    \n",
    "    else:\n",
    "        print(f\"{rev_num} and {num} are not equal\")\n",
    "    \n",
    "else:\n",
    "    print(\"Please enter a valid five-digit number.\")\n",
    "    "
   ]
  },
  {
   "cell_type": "code",
   "execution_count": 3,
   "id": "f96c945b",
   "metadata": {},
   "outputs": [
    {
     "name": "stdout",
     "output_type": "stream",
     "text": [
      "Enter Ram's age: 15\n",
      "Enter Shyam's age: 20\n",
      "Enter Ajay's age: 17\n",
      "The youngest person among Ram, Shyam, and Ajay is Ram.\n"
     ]
    }
   ],
   "source": [
    "# Problem-10\n",
    "# If the ages of Ram, Shyam and Ajay are input through the keyboard, write a program to \n",
    "# determine the youngest of the three.\n",
    "\n",
    "#taking their respective ages as input\n",
    "ram_age = int(input(\"Enter Ram's age: \"))\n",
    "shyam_age = int(input(\"Enter Shyam's age: \"))\n",
    "ajay_age = int(input(\"Enter Ajay's age: \"))\n",
    "\n",
    "#comparing to find the youngest of them\n",
    "if ram_age < shyam_age and ram_age < ajay_age:\n",
    "    youngest = \"Ram\"\n",
    "    \n",
    "elif shyam_age<ram_age and shyam_age<ajay_age:\n",
    "    youngest = \"Shyam\"\n",
    "    \n",
    "else:\n",
    "    youngest = \"Ajay\"\n",
    "    \n",
    "#printing the result\n",
    "print(f\"The youngest person among Ram, Shyam, and Ajay is {youngest}.\")"
   ]
  },
  {
   "cell_type": "code",
   "execution_count": 5,
   "id": "38f2781b",
   "metadata": {},
   "outputs": [
    {
     "name": "stdout",
     "output_type": "stream",
     "text": [
      "Enter the first angle: 52\n",
      "Enter the second angle: 46\n",
      "Enter the third angle: 80\n",
      "The triangle is not valid.\n"
     ]
    }
   ],
   "source": [
    "# Problem-11\n",
    "# Write a program to check whether a triangle is valid or not, when the three angles of \n",
    "# the triangle are entered through the keyboard. A triangle is valid if the sum of all the three \n",
    "# angles is equal to 180 degrees.\n",
    "\n",
    "#taking the angles of a triangle as input\n",
    "angle1 = float(input(\"Enter the first angle: \"))\n",
    "angle2 = float(input(\"Enter the second angle: \"))\n",
    "angle3 = float(input(\"Enter the third angle: \"))\n",
    "\n",
    "#checking if the triangle is valid or not\n",
    "if angle1 + angle2 + angle3 == 180:\n",
    "    result = \"The triangle is valid.\"\n",
    "\n",
    "else:\n",
    "    result = \"The triangle is not valid.\"\n",
    "\n",
    "print(result)"
   ]
  },
  {
   "cell_type": "code",
   "execution_count": 6,
   "id": "3aaca77b",
   "metadata": {},
   "outputs": [
    {
     "name": "stdout",
     "output_type": "stream",
     "text": [
      "Enter a number: 45\n",
      "The absolute value of 45.0 is 45.0\n"
     ]
    }
   ],
   "source": [
    "# Problem-12\n",
    "# Find the absolute value of a number entered through the keyboard.\n",
    "\n",
    "#Taking the number as input\n",
    "num = float(input(\"Enter a number: \"))\n",
    "\n",
    "#finding the absolute value of the given number\n",
    "absolute_value = abs(num)\n",
    "\n",
    "#printing the result\n",
    "print(f\"The absolute value of {num} is {absolute_value}\")"
   ]
  },
  {
   "cell_type": "code",
   "execution_count": 26,
   "id": "91e07626",
   "metadata": {},
   "outputs": [
    {
     "name": "stdout",
     "output_type": "stream",
     "text": [
      "Enter the length: 6\n",
      "Enter the breadth: 4\n",
      "The area of the rectangle is greater than its perimeter.\n"
     ]
    }
   ],
   "source": [
    "# Problem-13\n",
    "# Given the length and breadth of a rectangle, write a program to find whether the area \n",
    "# of the rectangle is greater than its perimeter. For example, the area of the rectangle with \n",
    "# length = 5 and breadth = 4 is greater than its perimeter.\n",
    "\n",
    "#taking the length and breadth of a rectangle\n",
    "l = float(input(\"Enter the length: \"))\n",
    "b = float(input(\"Enter the breadth: \"))\n",
    "\n",
    "#finding the area\n",
    "area = l * b\n",
    "\n",
    "# finding the perimeter\n",
    "perimeter = 2 * (l + b)\n",
    "\n",
    "#checking the said problem\n",
    "if area > perimeter:\n",
    "    result = \"The area of the rectangle is greater than its perimeter.\"\n",
    "elif area == perimeter:\n",
    "    result = \"The area of the rectangle is equal to its perimeter.\"\n",
    "elif area < perimeter:\n",
    "    result = \"The area of the rectangle is smaller than its perimeter.\"\n",
    "else:\n",
    "    result = \".....ERROR.....\"\n",
    "    \n",
    "print(result)\n",
    "    "
   ]
  },
  {
   "cell_type": "code",
   "execution_count": 28,
   "id": "a00c330a",
   "metadata": {},
   "outputs": [
    {
     "name": "stdout",
     "output_type": "stream",
     "text": [
      "Enter a year: 2020\n",
      "Year 2020 is a Leap year\n"
     ]
    }
   ],
   "source": [
    "# Problem-14\n",
    "# Any year is entered through the keyboard, write a program to determine whether the \n",
    "# year is leap or not. Use the logical operators && and ||.\n",
    "\n",
    "# taking year as input\n",
    "year = int(input(\"Enter a year: \"))\n",
    "\n",
    "# checking ig the year is leap year or not\n",
    "if year % 4 == 0 :\n",
    "    print(f\"Year {year} is a Leap year\")\n",
    "    \n",
    "else:\n",
    "    print(f\"Year {year} is not a Leap year\")"
   ]
  },
  {
   "cell_type": "code",
   "execution_count": 29,
   "id": "c0dcf340",
   "metadata": {},
   "outputs": [
    {
     "name": "stdout",
     "output_type": "stream",
     "text": [
      "Enter the hardness value of the steel: 60\n",
      "Enter the carbon_content value of the steel: 0.5\n",
      "Enter the tensile_strength value of the steel: 5700\n",
      "The grade of the steel is 10.\n"
     ]
    }
   ],
   "source": [
    "# Problem-15\n",
    "# A certain grade of steel is graded according to the following conditions:\n",
    "# i. Hardness must be greater than 50\n",
    "# ii. Carbon content must be less than 0.7\n",
    "# iii. Tensile strength must be greater than 5600\n",
    "# The grades are as follows:\n",
    "# i. Grade is 10 if all three conditions are met\n",
    "# ii. Grade is 9 if conditions (i) and (ii) are met\n",
    "# iii. Grade is 8 if conditions (ii) and (iii) are met\n",
    "# iv. Grade is 7 if conditions (i) and (iii) are met\n",
    "# v. Grade is 6 if only one condition is met\n",
    "# vi. Grade is 5 if none of the conditions are met\n",
    "# Write a program, which will require the user to give values of hardness, carbon content and \n",
    "# tensile strength of the steel under consideration and output the grade of the steel.\n",
    "\n",
    "#taking the requred info as input such as hardness, carbon content and tensile strength\n",
    "hardness = float(input(\"Enter the hardness value of the steel: \"))\n",
    "carbon_content = float(input(\"Enter the carbon_content value of the steel: \"))\n",
    "tensile_strength = float(input(\"Enter the tensile_strength value of the steel: \"))\n",
    "\n",
    "#checking and giving grade as per the conditions\n",
    "if hardness > 50 and carbon_content < 0.7 and tensile_strength > 5600:\n",
    "    grade = 10\n",
    "\n",
    "elif hardness > 50 and carbon_content < 0.7:\n",
    "    grade = 9\n",
    "    \n",
    "elif carbon_content < 0.7 and tensile_strength > 5600:\n",
    "    grade = 8\n",
    "    \n",
    "elif hardness > 50 and tensile_strength > 5600:\n",
    "    grade = 7\n",
    "    \n",
    "elif hardness > 50 or carbon_content < 0.7 or tensile_strength > 5600:\n",
    "    grade = 6\n",
    "    \n",
    "else:\n",
    "    grade = 5\n",
    "    \n",
    "#printing the grade of the steel\n",
    "print(f\"The grade of the steel is {grade}.\")"
   ]
  },
  {
   "cell_type": "code",
   "execution_count": 31,
   "id": "548db7b9",
   "metadata": {},
   "outputs": [
    {
     "name": "stdout",
     "output_type": "stream",
     "text": [
      "Enter the number of days the book is late: 35\n",
      "The membership of the member is cancelled due to excessive delay.\n"
     ]
    }
   ],
   "source": [
    "# Problem-16\n",
    "# A library charges a fine for every book returned late. For first 5 days the fine is 50 \n",
    "# paise, for 6-10 days fine is one rupee and above 10 days fine is 5 rupees. If you return the \n",
    "# book after 30 days your membership will be cancelled. Write a program to accept the \n",
    "# number of days the member is late to return the book and display the fine or the \n",
    "# appropriate message.\n",
    "\n",
    "#taking the number of days the member is late to return the book as input\n",
    "days = int(input(\"Enter the number of days the book is late: \"))\n",
    "\n",
    "#checking for the fine\n",
    "if days <= 5:\n",
    "    result = 0.50\n",
    "    \n",
    "elif days <= 10:\n",
    "    result = 1\n",
    "    \n",
    "else:\n",
    "    result = 5\n",
    "    \n",
    "if days >= 30:\n",
    "    print(\"The membership of the member is cancelled due to excessive delay.\")\n",
    "\n",
    "else:\n",
    "    print(f\"The fine for returning the book {days} days late is Rs. {result}\")"
   ]
  },
  {
   "cell_type": "code",
   "execution_count": 23,
   "id": "e9894a60",
   "metadata": {},
   "outputs": [
    {
     "name": "stdout",
     "output_type": "stream",
     "text": [
      "Enter the time taken by the worker (in hours): 5\n",
      "The worker should leave the company.\n"
     ]
    }
   ],
   "source": [
    "# Problem-17\n",
    "# In a company, worker efficiency is determined on the basis of the time required for a \n",
    "# worker to complete a particular job. If the time taken by the worker is between 2 – 3 \n",
    "# hours, then the worker is said to be highly efficient. If the time required by the worker is \n",
    "# between 3 – 4 hours, then the worker is ordered to improve speed. If the time taken is \n",
    "# between 4 – 5 hours, the worker is given training to improve his speed, and if the time \n",
    "# taken by the worker is more than 5 hours, then the worker has to leave the company. If the \n",
    "# time taken by the worker is input through the keyboard, find the efficiency of the worker.\n",
    "\n",
    "# Input the time taken by the worker\n",
    "time_taken = float(input(\"Enter the time taken by the worker (in hours): \"))\n",
    "\n",
    "# Determine the worker's efficiency based on the time taken\n",
    "if time_taken >= 2 and time_taken < 3:\n",
    "    efficiency = \" is highly efficient\"\n",
    "elif time_taken >= 3 and time_taken < 4:\n",
    "    efficiency = \"needs to improve speed\"\n",
    "elif time_taken >= 4 and time_taken < 5:\n",
    "    efficiency = \"requires training to improve speed\"\n",
    "else:\n",
    "    efficiency = \"should leave the company\"\n",
    "\n",
    "# printing the worker's efficiency\n",
    "print(f\"The worker {efficiency}.\")\n"
   ]
  },
  {
   "cell_type": "markdown",
   "id": "6cc73ec6",
   "metadata": {},
   "source": [
    "# Task - 3"
   ]
  },
  {
   "cell_type": "code",
   "execution_count": 78,
   "id": "aa9e9144",
   "metadata": {},
   "outputs": [
    {
     "name": "stdout",
     "output_type": "stream",
     "text": [
      "Enter a number: 25\n",
      "The factors of 25: [1, 5, 25]\n"
     ]
    }
   ],
   "source": [
    "# Problem - 1\n",
    "# Write a program to find the factor of the given number.\n",
    "\n",
    "\n",
    "#using def function to find the factor of a given number\n",
    "def print_factors(n):\n",
    "    factors = []\n",
    "    \n",
    "    for i in range(1, n + 1):\n",
    "        if n % i == 0:\n",
    "            factors.append(i)\n",
    "            \n",
    "    return factors\n",
    "\n",
    "# taking a number as input to find the factors\n",
    "num = int(input(\"Enter a number: \"))\n",
    "\n",
    "if num < 1:\n",
    "    print(\"Enter a positive number.\")\n",
    "    \n",
    "else:\n",
    "    f = print_factors(num)\n",
    "    print(f\"The factors of {num}: {f}\")"
   ]
  },
  {
   "cell_type": "code",
   "execution_count": 25,
   "id": "f6ed1ebc",
   "metadata": {},
   "outputs": [
    {
     "name": "stdout",
     "output_type": "stream",
     "text": [
      "Enter the number: 45\n",
      "This number is not Prime\n"
     ]
    }
   ],
   "source": [
    "# Problem - 2\n",
    "# Write a program to find whether the given number is prime or not\n",
    "\n",
    "num = int(input(\"Enter the number: \"))\n",
    "prime = True\n",
    "\n",
    "for i in range(2, num):\n",
    "    if(num%i == 0):\n",
    "        prime = False\n",
    "        break\n",
    "if prime:\n",
    "    print(\"This number is Prime\")\n",
    "else:\n",
    "    print(\"This number is not Prime\")"
   ]
  },
  {
   "cell_type": "code",
   "execution_count": 2,
   "id": "b5da52eb",
   "metadata": {},
   "outputs": [
    {
     "name": "stdout",
     "output_type": "stream",
     "text": [
      "Enter a number: 153\n",
      "153 is an Armstrong number\n"
     ]
    }
   ],
   "source": [
    "# Problem - 3\n",
    "# Write a program to find the given number is Armstrong number or not.\n",
    "# An armstrong number in python is a positive integer of base n, and the sum of each digit of \n",
    "# the Armstrong number of order n is equal to the number itself.\n",
    "\n",
    "#taking number as input\n",
    "num = int(input(\"Enter a number: \"))\n",
    "\n",
    "# making a sum variable with 0\n",
    "sum = 0\n",
    "\n",
    "# find the sum of the cube of each digit\n",
    "temp = num\n",
    "while temp > 0:\n",
    "   digit = temp % 10\n",
    "   sum += digit ** 3\n",
    "   temp //= 10\n",
    "\n",
    "# printing the result\n",
    "if num == sum:\n",
    "   print(num,\"is an Armstrong number\")\n",
    "else:\n",
    "   print(num,\"is not an Armstrong number\")\n"
   ]
  },
  {
   "cell_type": "code",
   "execution_count": 6,
   "id": "931771e1",
   "metadata": {},
   "outputs": [
    {
     "name": "stdout",
     "output_type": "stream",
     "text": [
      "153\n",
      "370\n",
      "371\n",
      "407\n"
     ]
    }
   ],
   "source": [
    "# Problem - 4\n",
    "# Write a program to print the Armstrong numbers between 100 to 999.\n",
    "\n",
    "for num in range(100, 1000):\n",
    "    # Calculate the sum of the cube of each digit\n",
    "    digit_sum = 0\n",
    "    temp = num\n",
    "    while temp > 0:\n",
    "        digit = temp % 10\n",
    "        digit_sum += digit ** 3\n",
    "        temp //= 10\n",
    "\n",
    "    # Check if the number is an Armstrong number\n",
    "    if num == digit_sum:\n",
    "        print(num)\n"
   ]
  },
  {
   "cell_type": "code",
   "execution_count": 16,
   "id": "0e9bad2b",
   "metadata": {},
   "outputs": [
    {
     "name": "stdout",
     "output_type": "stream",
     "text": [
      "Enter the start of the range: 5\n",
      "Enter the end of the range: 79\n",
      "Count of even numbers in the range: 37\n",
      "Count of odd numbers in the range: 38\n"
     ]
    }
   ],
   "source": [
    "# Problem-5\n",
    "# Write a program to count and print the number of odd and even numbers.\n",
    "\n",
    "# Asking user to enter a start and end point to count odd and even numbers in the range\n",
    "start = int(input (\"Enter the start of the range: \"))\n",
    "end = int(input (\"Enter the end of the range: \"))\n",
    "\n",
    "# Creating empty variables to overwrite the count\n",
    "even_num_count = 0\n",
    "odd_num_count = 0\n",
    "\n",
    "\n",
    "for i in range(start, end + 1):\n",
    "    if i % 2 == 0:\n",
    "        even_num_count += 1\n",
    "    else:\n",
    "        odd_num_count += 1\n",
    "\n",
    "# Printing the result \n",
    "print(\"Count of even numbers in the range:\",even_num_count)\n",
    "print(\"Count of odd numbers in the range:\",odd_num_count)"
   ]
  },
  {
   "cell_type": "code",
   "execution_count": 28,
   "id": "7e2fbd5d",
   "metadata": {},
   "outputs": [
    {
     "name": "stdout",
     "output_type": "stream",
     "text": [
      "Enter a n-digit number: 54543\n",
      "Reverse of the number is 34545\n"
     ]
    }
   ],
   "source": [
    "# Problem - 6\n",
    "# Write a program to find the reverse of n digit number using While loop\n",
    "\n",
    "#taking input from the user\n",
    "original_num = int(input(\"Enter a n-digit number: \"))\n",
    "\n",
    "# Making an empty variable to store the reversed number\n",
    "reverse_num = 0\n",
    "\n",
    "# Using while loop to reverse the number\n",
    "while original_num > 0:\n",
    "    digit = original_num % 10\n",
    "    reverse_num = reverse_num * 10 + digit\n",
    "    original_num //= 10\n",
    "\n",
    "# Printing the results \n",
    "print(f\"Reverse of the number is\",reverse_num)"
   ]
  },
  {
   "cell_type": "code",
   "execution_count": 24,
   "id": "cbf3d327",
   "metadata": {},
   "outputs": [
    {
     "name": "stdout",
     "output_type": "stream",
     "text": [
      "Enter a decimal number: 10\n",
      "The binary representation of 10 is  0b1010\n"
     ]
    }
   ],
   "source": [
    "# Problem - 7\n",
    "# Write a program to find the binary number from given decimal number.\n",
    "\n",
    "dec_num = int(input(\"Enter a decimal number: \"))\n",
    "\n",
    "binary_num = bin(dec_num)\n",
    "\n",
    "# printing the result\n",
    "print(f\"The binary representation of {dec_num} is \",binary_num)"
   ]
  },
  {
   "cell_type": "code",
   "execution_count": 10,
   "id": "78d0ea78",
   "metadata": {},
   "outputs": [
    {
     "name": "stdout",
     "output_type": "stream",
     "text": [
      "Enter a binary number: 1010\n",
      "The decimal number for 1010 is 10\n"
     ]
    }
   ],
   "source": [
    "# Problem - 8\n",
    "# Write a program to find the decimal number from given Binary number.\n",
    "\n",
    "bin_num = (input(\"Enter a binary number: \"))\n",
    "\n",
    "decimal_num = int(bin_num, 2)\n",
    "\n",
    "print(f\"The decimal number for {bin_num} is {decimal_num}\")"
   ]
  },
  {
   "cell_type": "code",
   "execution_count": 29,
   "id": "89a1182a",
   "metadata": {},
   "outputs": [
    {
     "name": "stdout",
     "output_type": "stream",
     "text": [
      "Ente a number to find its factorial: 10\n",
      "The factorial of 10 is 3628800\n"
     ]
    }
   ],
   "source": [
    "# Problem - 9\n",
    "# Write a program to find the factorial of the given number.\n",
    "\n",
    "fac_num = int(input(\"Ente a number to find its factorial: \"))\n",
    "\n",
    "# Taking factorial as 1\n",
    "factorial = 1\n",
    "\n",
    "if fac_num <0:\n",
    "    print(\"Enter a positive number.\")\n",
    "    \n",
    "elif fac_num == 0:\n",
    "    print(f\"The factorial of 0 is {factorial}.\")\n",
    "\n",
    "else:\n",
    "    for i in range(1, fac_num + 1):\n",
    "        factorial *= i\n",
    "        \n",
    "    print(f\"The factorial of {fac_num} is {factorial}\")"
   ]
  },
  {
   "cell_type": "code",
   "execution_count": 37,
   "id": "5f93c2f2",
   "metadata": {},
   "outputs": [
    {
     "name": "stdout",
     "output_type": "stream",
     "text": [
      "Enter a number to find its Fibonacci Series: 425\n",
      "[1, 1, 2, 3, 5, 8, 13, 21, 34, 55, 89, 144, 233, 377, 610]\n"
     ]
    }
   ],
   "source": [
    "# Problem - 10\n",
    "# Write a program to find the Fibonacci Series of the given number.\n",
    "\n",
    "# def fibonacci(n):                ####### Tried to make a function to call whenever needed but i couldnt finish it\n",
    "#     fibonacci_series = []\n",
    "    \n",
    "#     for i in range(n):\n",
    "#         fibonacci_series.append(i)\n",
    "        \n",
    "\n",
    "# fib_num = int(input(\"Enter a number to find its Fibonacci Series: \"))\n",
    "\n",
    "\n",
    "n = int(input(\"Enter a number to find its Fibonacci Series: \"))\n",
    "\n",
    "fibonacci_series = []\n",
    "\n",
    "x = 0\n",
    "y = 1\n",
    "z = 0\n",
    "\n",
    "while z<=n:\n",
    "    x = y\n",
    "    y = z\n",
    "    z = x + y\n",
    "    fibonacci_series.append(z)\n",
    "\n",
    "print(fibonacci_series)"
   ]
  },
  {
   "cell_type": "code",
   "execution_count": 11,
   "id": "97a7c9ea",
   "metadata": {},
   "outputs": [
    {
     "name": "stdout",
     "output_type": "stream",
     "text": [
      "Enter a number to check: 6\n",
      "6 is a perfect number.\n"
     ]
    }
   ],
   "source": [
    "# Problem - 11\n",
    "# Write a program to find the given number is perfect number\n",
    "# A perfect number is a positive integer that is equal to the sum of its proper divisors.\n",
    "\n",
    "# defining a function to check perfect number\n",
    "def is_perfect_number(perfect_num):\n",
    "    # making a vaiable with 0 value to add the divisors of the number \n",
    "    divisor_sum = 0\n",
    "    \n",
    "    for i in range(1, perfect_num):\n",
    "        if perfect_num % i == 0:\n",
    "            divisor_sum += i\n",
    "            \n",
    "    return divisor_sum == perfect_num\n",
    "\n",
    "#taking a number input from the user to check whether it is a perfect number\n",
    "perfect_num = int(input(\"Enter a number to check: \"))\n",
    "\n",
    "if is_perfect_number(perfect_num):\n",
    "    print(f\"{perfect_num} is a perfect number.\")\n",
    "    \n",
    "else:\n",
    "    print(f\"{perfect_num} is not a perfect number.\")"
   ]
  },
  {
   "cell_type": "code",
   "execution_count": 13,
   "id": "ff96dedf",
   "metadata": {},
   "outputs": [
    {
     "name": "stdout",
     "output_type": "stream",
     "text": [
      "The perfect number between 1 and 1000: \n",
      "6\n",
      "28\n",
      "496\n"
     ]
    }
   ],
   "source": [
    "# Problem - 12\n",
    "# Write a program to print the perfect number between 1-1000\n",
    "\n",
    "# just calling the \"def is_perfect_number\" function from the above code\n",
    "print(\"The perfect number between 1 and 1000: \")\n",
    "for i in range(1, 1001):\n",
    "    if is_perfect_number(i):\n",
    "        print(i)\n",
    "    "
   ]
  },
  {
   "cell_type": "code",
   "execution_count": 14,
   "id": "23cdb5f4",
   "metadata": {},
   "outputs": [
    {
     "name": "stdout",
     "output_type": "stream",
     "text": [
      "Enter a number to check whether its a strong number: 145\n",
      "Not strong\n"
     ]
    }
   ],
   "source": [
    "# Problem - 13\n",
    "#  Write a program to find the given number is strong number\n",
    "# A strong number is one in which the factorial of the digits equals the number itself.\n",
    "\n",
    "# Taking a number as input from the user to check whether it is a strong number or not\n",
    "strong_num = int(input(\"Enter a number to check whether its a strong number: \"))\n",
    "\n",
    "# Taking sum as 0\n",
    "s = 0\n",
    "\n",
    "while (strong_num > 0):\n",
    "    digit = strong_num % 10\n",
    "    factorial = 1\n",
    "    for i in range(1, digit+1):\n",
    "        factorial = factorial*i\n",
    "    \n",
    "    s += factorial\n",
    "    strong_num = strong_num // 10\n",
    "    \n",
    "if s == strong_num:\n",
    "    print(\"Strong number\")\n",
    "\n",
    "else:\n",
    "    print(\"Not strong\")\n",
    "    "
   ]
  },
  {
   "cell_type": "code",
   "execution_count": 13,
   "id": "42967c77",
   "metadata": {},
   "outputs": [
    {
     "name": "stdout",
     "output_type": "stream",
     "text": [
      "Enter a base number: 5\n",
      "Enter a exponent number: 2\n",
      "5 raised to the power 2 is 25.\n"
     ]
    }
   ],
   "source": [
    "# Problem - 14\n",
    "# Two numbers are entered through the keyboard. Write a program to find the value of \n",
    "# one number raised to the power of another.\n",
    "# n_1 = [2, 3]\n",
    "\n",
    "# print(n_1[0] ** n_1[1])\n",
    "\n",
    "# taking two numbers as input from the user\n",
    "base_num = int(input(\"Enter a base number: \"))\n",
    "exponent_num = int(input(\"Enter a exponent number: \"))\n",
    "\n",
    "result = base_num ** exponent_num\n",
    "\n",
    "print(f\"{base_num} raised to the power {exponent_num} is {result}.\")"
   ]
  },
  {
   "cell_type": "code",
   "execution_count": null,
   "id": "10ca4436",
   "metadata": {},
   "outputs": [],
   "source": []
  }
 ],
 "metadata": {
  "kernelspec": {
   "display_name": "Python 3 (ipykernel)",
   "language": "python",
   "name": "python3"
  },
  "language_info": {
   "codemirror_mode": {
    "name": "ipython",
    "version": 3
   },
   "file_extension": ".py",
   "mimetype": "text/x-python",
   "name": "python",
   "nbconvert_exporter": "python",
   "pygments_lexer": "ipython3",
   "version": "3.10.7"
  }
 },
 "nbformat": 4,
 "nbformat_minor": 5
}
