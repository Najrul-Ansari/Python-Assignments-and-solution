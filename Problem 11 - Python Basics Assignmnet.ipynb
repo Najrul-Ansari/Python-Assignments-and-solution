{
 "cells": [
  {
   "cell_type": "code",
   "execution_count": 6,
   "id": "d60bad89",
   "metadata": {},
   "outputs": [
    {
     "name": "stdout",
     "output_type": "stream",
     "text": [
      "I would like to own a Honda Motorcycle\n",
      "My favourite car is Jeep\n",
      "I used to ride my bicycle to school\n",
      "Trains are really getting fast day by day\n"
     ]
    }
   ],
   "source": [
    "#creating a list of mode of transport\n",
    "modeoftransport = [\"motorcycle\", \"car\", \"bicycle\", \"train\"]\n",
    "\n",
    "#creating a loop to print statements for different modes of transportation\n",
    "for i in modeoftransport:\n",
    "    if i == \"motorcycle\":\n",
    "        print(\"I would like to own a Honda Motorcycle\")\n",
    "        \n",
    "    elif i == \"car\":\n",
    "        print(\"My favourite car is Jeep\")\n",
    "        \n",
    "    elif i == \"bicycle\":\n",
    "        print(\"I used to ride my bicycle to school\")\n",
    "        \n",
    "    elif i==\"train\":\n",
    "        print(\"Trains are really getting fast day by day\")\n",
    "              \n",
    "    else:\n",
    "        print(\"..........\")"
   ]
  },
  {
   "cell_type": "code",
   "execution_count": null,
   "id": "d13069cf",
   "metadata": {},
   "outputs": [],
   "source": []
  }
 ],
 "metadata": {
  "kernelspec": {
   "display_name": "Python 3 (ipykernel)",
   "language": "python",
   "name": "python3"
  },
  "language_info": {
   "codemirror_mode": {
    "name": "ipython",
    "version": 3
   },
   "file_extension": ".py",
   "mimetype": "text/x-python",
   "name": "python",
   "nbconvert_exporter": "python",
   "pygments_lexer": "ipython3",
   "version": "3.10.7"
  }
 },
 "nbformat": 4,
 "nbformat_minor": 5
}
