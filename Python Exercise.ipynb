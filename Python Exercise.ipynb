{
 "cells": [
  {
   "cell_type": "markdown",
   "id": "f6a7154a",
   "metadata": {},
   "source": [
    "# Python problem and solution - Code by Najrul Ansari"
   ]
  },
  {
   "cell_type": "code",
   "execution_count": 4,
   "id": "e1aa3d03",
   "metadata": {},
   "outputs": [
    {
     "name": "stdout",
     "output_type": "stream",
     "text": [
      "Enter a number to check Odd/Even: 25\n",
      "25 is an odd  number.\n"
     ]
    }
   ],
   "source": [
    "# Problem - 1\n",
    "# Write a program that reads an integer from the user. Then your \n",
    "# program should display a message indicating whether the integer is \n",
    "# even or odd.\n",
    "\n",
    "# Taking a number as an input\n",
    "num = int(input(\"Enter a number to check Odd/Even: \"))\n",
    "\n",
    "if num < 0:\n",
    "    print(\"Please enter a positive number.\")\n",
    "    \n",
    "else:\n",
    "    if num % 2 == 0:\n",
    "        print(f\"{num} is an even number.\")\n",
    "    else:\n",
    "        print(f\"{num} is an odd  number.\")"
   ]
  },
  {
   "cell_type": "code",
   "execution_count": 18,
   "id": "5ab60c03",
   "metadata": {},
   "outputs": [
    {
     "name": "stdout",
     "output_type": "stream",
     "text": [
      "Enter the number of human years: 4\n",
      "4.0 human years is approximately 34.0 dog years.\n"
     ]
    }
   ],
   "source": [
    "# Problem - 2\n",
    "# Write a program that implements the conversion from human years to \n",
    "# dog years described in the previous paragraph. Ensure that your \n",
    "# program works correctly for conversions of less than two human years \n",
    "# and for conversions of two or more human years. Your program should \n",
    "# display an appropriate error message if the user enters a negative \n",
    "# number.\n",
    "# 1. 15 human years equals the first year of a medium-sized dog’s life.  ###### Used this points to derive the formula\n",
    "# 2.Year two for a dog equals about nine years for a human.\n",
    "# 3.And after that, each human year would be approximately five years for a dog.\n",
    "\n",
    "\n",
    "def human_to_dog_years(human_years):\n",
    "    if human_years <= 0:\n",
    "        return \"Please enter a Positive number.\"\n",
    "    elif human_years == 1:\n",
    "        dog_years = 15\n",
    "    elif human_years == 2:\n",
    "        dog_years = 24\n",
    "    else:\n",
    "        dog_years = 15 + 9 + (5 * (human_years - 2))\n",
    "\n",
    "    return f\"{human_years} human years is approximately {dog_years} dog years.\"\n",
    "\n",
    "# Input a number of human years from the user\n",
    "\n",
    "human_years = float(input(\"Enter the number of human years: \"))\n",
    "result = human_to_dog_years(human_years)\n",
    "print(result)\n",
    "\n"
   ]
  },
  {
   "cell_type": "code",
   "execution_count": 7,
   "id": "a51e4050",
   "metadata": {},
   "outputs": [
    {
     "name": "stdout",
     "output_type": "stream",
     "text": [
      "Enter a letter from the alphabet: r\n",
      "r is a consonant.\n"
     ]
    }
   ],
   "source": [
    "# Problem - 3\n",
    "#  Create a program that reads a letter of the alphabet from the user. If the \n",
    "# user enters a, e, i, o or u then your program should display a message \n",
    "# indicating that the entered letter is a vowel. If the user enters y then \n",
    "# your program should display a message indicating that sometimes y is a \n",
    "# vowel, and sometimes y is a consonant. Otherwise your program should \n",
    "# display a message indicating that the letter is a consonant.\n",
    "\n",
    "# Taking a letter as input from the user\n",
    "letter = input(\"Enter a letter from the alphabet: \").lower()\n",
    "\n",
    "# Checking the letter entered by the user is vowel or consonant\n",
    "if letter in ['a', 'e', 'i', 'o', 'u']:\n",
    "    print(f\"{letter} is a vowel.\")\n",
    "    \n",
    "elif letter == 'y':\n",
    "    print(f\"Sometimes {letter} is a vowel and sometimes {letter} is a consonant.\")\n",
    "    \n",
    "else:\n",
    "    print(f\"{letter} is a consonant.\")"
   ]
  },
  {
   "cell_type": "code",
   "execution_count": 12,
   "id": "6a75a6f2",
   "metadata": {},
   "outputs": [
    {
     "name": "stdout",
     "output_type": "stream",
     "text": [
      "Enter the number of sides a shape, for its name: 10\n",
      "The shape with 10 is known as Decagon.\n"
     ]
    }
   ],
   "source": [
    "# Problem - 4\n",
    "# Write a program that determines the name of a shape from its number \n",
    "# of sides. Read the number of sides from the user and then report the \n",
    "# appropriate name as part of a meaningful message. Your program \n",
    "# should support shapes with anywhere from 3 up to (and including) 10 \n",
    "# sides. If a number of sides outside of this range is entered then your \n",
    "# program should display an appropriate error message.\n",
    "\n",
    "# Asking the user to enter the number of sides of a shape\n",
    "shape_sides = int(input(\"Enter the number of sides a shape, for its name: \"))\n",
    "\n",
    "# Making an empty shape variable to store the name of the shape\n",
    "shape =\"\"\n",
    "\n",
    "# Using IF-ELSE statements to check for the name of the shapes\n",
    "if shape_sides <= 2 or shape_sides > 12:\n",
    "    print(f\"...ERROR...There is no shape with {shape_sides} sides.\")\n",
    "    \n",
    "elif shape_sides == 3:\n",
    "    shape = \"Triangle\"\n",
    "\n",
    "elif shape_sides == 4:\n",
    "    shape = \"Quadrilateral\"\n",
    "    \n",
    "elif shape_sides == 5:\n",
    "    shape = \"Pentagon\"\n",
    "    \n",
    "elif shape_sides == 6:\n",
    "    shape = \"Hexagon\"\n",
    "    \n",
    "elif shape_sides == 7:\n",
    "    shape = \"Heptagon or Septagon\"\n",
    "    \n",
    "elif shape_sides == 8:\n",
    "    shape = \"Octagon\"\n",
    "    \n",
    "elif shape_sides == 9:\n",
    "    shape = \"Nonagon or Enneagon\"\n",
    "    \n",
    "elif shape_sides == 10:\n",
    "    shape = \"Decagon\"\n",
    "    \n",
    "elif shape_sides == 12:\n",
    "    shape = \"Dodecagon\"\n",
    "    \n",
    "else:\n",
    "    print(f\"...ERROR...There is no shape with {shape_sides} sides.\")\n",
    "\n",
    "# Printing the results\n",
    "print(f\"The shape with {shape_sides} is known as {shape}.\")"
   ]
  },
  {
   "cell_type": "code",
   "execution_count": 15,
   "id": "c8411ce8",
   "metadata": {},
   "outputs": [
    {
     "name": "stdout",
     "output_type": "stream",
     "text": [
      "Enter the name of the month to check the number of days: march\n",
      "March has 31 days.\n"
     ]
    }
   ],
   "source": [
    "# Problem - 5\n",
    "# The length of a month varies from 28 to 31 days. In this exercise you \n",
    "# will create a program that reads the name of a month from the user as a \n",
    "# string. Then your program should display the number of days in that \n",
    "# month. Display “28 or 29 days” for February so that leap years are \n",
    "# addressed.\n",
    "\n",
    "# Asking the user to enter the name of the month\n",
    "month = input(\"Enter the name of the month to check the number of days: \").capitalize()\n",
    "\n",
    "# Making an empty variable to store the number of days\n",
    "days = \"\"\n",
    "\n",
    "# Checking the number of days\n",
    "if month == \"February\":\n",
    "    days = \"28 or 29\"\n",
    "    \n",
    "elif month in ['January', 'March', 'May', 'July', 'August', 'October', 'December']:\n",
    "    days = 31\n",
    "    \n",
    "elif month in ['April', 'June', 'September', 'November']:\n",
    "    days = 30\n",
    "    \n",
    "else:\n",
    "    print(\"Please enter the month name properly\")\n",
    "\n",
    "# Printing the result    \n",
    "print(f\"{month} has {days} days.\")"
   ]
  },
  {
   "cell_type": "code",
   "execution_count": 28,
   "id": "05032719",
   "metadata": {},
   "outputs": [
    {
     "name": "stdout",
     "output_type": "stream",
     "text": [
      "Enter the noise level in Decibels(DB): 106\n",
      "The noise level of 106 Db matches the level of a Gas lawnmower.\n"
     ]
    }
   ],
   "source": [
    "# Problem - 6\n",
    "# The following table lists the sound level in decibels for several common \n",
    "# noises.\n",
    "# Noise Decibel level (dB)\n",
    "# Jackhammer 130\n",
    "# Gas lawnmower 106\n",
    "# Alarm clock 70\n",
    "# Quiet room 40\n",
    "# Write a program that reads a sound level in decibels from the user. If the user \n",
    "# enters a decibel level that matches one of the noises in the table then your \n",
    "# program should display a message containing only that noise. If the user \n",
    "# enters a number of decibels between the noises listed then your program \n",
    "# should display a message indicating which noises the level is between. Ensure \n",
    "# that your program also generates reasonable output for a value smaller than \n",
    "# the quietest noise in the table, and for a value larger than the loudest noise in \n",
    "# the table.\n",
    "\n",
    "# Putting the noise levels in a dictionary\n",
    "noise_levels = {\n",
    "    130 : \"Jackhammer\",\n",
    "    106 : \"Gas lawnmower\",\n",
    "    70 : \"Alarm clock\",\n",
    "    40 : \"Quiet room\",\n",
    "}\n",
    "\n",
    "# Asking the user to input the noise level in decibels\n",
    "decibel_levels = int(input(\"Enter the noise level in Decibels(DB): \"))\n",
    "\n",
    "# determining the level of noise anf printing the result\n",
    "if decibel_levels in noise_levels:\n",
    "    print(f\"The noise level of {decibel_levels} Db matches the level of a {noise_levels[decibel_levels]}.\")\n",
    "\n",
    "elif decibel_levels >40 and decibel_levels < 70:\n",
    "    print(f\"Noise level of {decibel_levels} Db is between the noise of Quiet room and Alarm clock.\")\n",
    "    \n",
    "elif decibel_levels > 70 and decibel_levels < 106:\n",
    "    print(f\"Noise level of {decibel_levels} Db is between the noise of Alarm clock and Gas lawnmower.\")\n",
    "    \n",
    "elif decibel_levels > 106 and decibel_levels < 130:\n",
    "    print(f\"Noise level of {decibel_levels} Db is between the noise of Gas lawnmower and Jackhammer.\")\n",
    "    \n",
    "elif decibel_levels < 40:\n",
    "    print(\"This level of sound is nearly silence.\")\n",
    "\n",
    "else:\n",
    "    print(f\"Get out of the current location. {decibel_levels} Db is too harmful.\")\n",
    "    \n"
   ]
  },
  {
   "cell_type": "code",
   "execution_count": 22,
   "id": "80420435",
   "metadata": {},
   "outputs": [
    {
     "name": "stdout",
     "output_type": "stream",
     "text": [
      "Enter a note name (A, B, C, D, E, F, G) and octave (0-8), e.g., C4: d5\n",
      "The frequency of D5 is 783.09 Hz.\n"
     ]
    }
   ],
   "source": [
    "# Problem - 7\n",
    "\n",
    "note_frequencies = {\n",
    "    'C': 261.63,\n",
    "    'D': 293.66,\n",
    "    'E': 329.63,\n",
    "    'F': 349.23,\n",
    "    'G': 392.00,\n",
    "    'A': 440.00,\n",
    "    'B': 493.88\n",
    "}\n",
    "\n",
    "input_note = input(\"Enter a note name (A, B, C, D, E, F, G) and octave (0-8), e.g., C4: \").upper()\n",
    "\n",
    "note = input_note[0]\n",
    "octave = int(input_note[1])\n",
    "\n",
    "if note in note_frequencies and 0 <= octave <= 8:   #Freq = note x 2 N/12\n",
    "    freq = note_frequencies[note] * (2**octave/12)\n",
    "    rounded_freq = round(freq, 2)\n",
    "    print(f\"The frequency of {input_note} is {rounded_freq} Hz.\")\n",
    "    \n",
    "else:\n",
    "    pritn(\"Invalid input. Please enter a valid note name and octave.\")"
   ]
  },
  {
   "cell_type": "code",
   "execution_count": 30,
   "id": "d51d5521",
   "metadata": {},
   "outputs": [],
   "source": [
    "# Problem - 8\n",
    "# In the previous question you converted from note name to frequency. \n",
    "# In this question you will write a program that reverses that process. \n",
    "# Begin by reading a frequency from the user. If the frequency is within \n",
    "# one Hertz of a value listed in the table in the previous question then \n",
    "# report the name of the note. Otherwise report that the frequency does \n",
    "# not correspond to a known note. In this exercise you only need to \n",
    "# consider the notes listed in the table. There is no need to consider notes \n",
    "# from other octaves.\n",
    "\n"
   ]
  },
  {
   "cell_type": "code",
   "execution_count": 4,
   "id": "c8222e75",
   "metadata": {},
   "outputs": [
    {
     "name": "stdout",
     "output_type": "stream",
     "text": [
      "Enter a wavelength in nanometer(nm) between 380 to 750: 420\n",
      "The color for the 420.0 nm is Violet.\n"
     ]
    }
   ],
   "source": [
    "# Problem - 9\n",
    "# The wavelength of visible light ranges from 380 to 750 nanometers \n",
    "# (nm). While the spectrum is continuous, it is often divided into 6 colors \n",
    "# as shown below:\n",
    "#     Color Wavelength (nm)\n",
    "# Violet 380 to less than 450\n",
    "# Blue 450 to less than 495\n",
    "# Green 495 to less than 570\n",
    "# Yellow 570 to less than 590\n",
    "# Orange 590 to less than 620\n",
    "# Red 620 to 750\n",
    "# Write a program that reads a wavelength from the user and reports its \n",
    "# color. Display an appropriate error message if the wavelength entered by the \n",
    "# user is outside of the visible spectrum.\n",
    "\n",
    "\n",
    "wave_length = float(input(\"Enter a wavelength in nanometer(nm) between 380 to 750: \"))\n",
    "\n",
    "if wave_length >= 380 and wave_length <= 750:\n",
    "    if wave_length >= 380 and wave_length < 450:\n",
    "        color = \"Violet\"\n",
    "        \n",
    "    elif wave_length >= 450 and wave_length < 495:\n",
    "        color = \"Blue\"\n",
    "    \n",
    "    elif wave_length >= 495 and wave_length < 570:\n",
    "        color = \"Green\"\n",
    "    \n",
    "    elif wave_length >= 570 and wave_length < 590:\n",
    "        color = \"Yellow\"\n",
    "    \n",
    "    elif wave_length >= 590 and wave_length < 620:\n",
    "        color = \"Orange\"\n",
    "    \n",
    "    else:\n",
    "        color = \"Red\"\n",
    "        \n",
    "    print(f\"The color for the {wave_length} nm is {color}.\")\n",
    "    \n",
    "else:\n",
    "    print(\"Error: Wavelength is outside the visible spectrum.\")"
   ]
  },
  {
   "cell_type": "markdown",
   "id": "8ff8af23",
   "metadata": {},
   "source": [
    "# List Exercise"
   ]
  },
  {
   "cell_type": "code",
   "execution_count": 4,
   "id": "37b35639",
   "metadata": {},
   "outputs": [],
   "source": [
    "# Problem - 1  #### Unable to understand the problem\n"
   ]
  },
  {
   "cell_type": "code",
   "execution_count": 6,
   "id": "aab804d9",
   "metadata": {},
   "outputs": [],
   "source": [
    "# Problem - 2  #### Unable to understand the problem "
   ]
  },
  {
   "cell_type": "code",
   "execution_count": null,
   "id": "073b92e2",
   "metadata": {},
   "outputs": [],
   "source": []
  }
 ],
 "metadata": {
  "kernelspec": {
   "display_name": "Python 3 (ipykernel)",
   "language": "python",
   "name": "python3"
  },
  "language_info": {
   "codemirror_mode": {
    "name": "ipython",
    "version": 3
   },
   "file_extension": ".py",
   "mimetype": "text/x-python",
   "name": "python",
   "nbconvert_exporter": "python",
   "pygments_lexer": "ipython3",
   "version": "3.10.7"
  }
 },
 "nbformat": 4,
 "nbformat_minor": 5
}
