{
 "cells": [
  {
   "cell_type": "code",
   "execution_count": 1,
   "id": "27214048",
   "metadata": {},
   "outputs": [
    {
     "name": "stdout",
     "output_type": "stream",
     "text": [
      "Hello, World!\n",
      "This is a new message.\n"
     ]
    }
   ],
   "source": [
    "# Storing a message in a variable\n",
    "message = \"Hello, World!\"\n",
    "\n",
    "# Print the  message\n",
    "print(message)\n",
    "\n",
    "# Changing the value of the variable to a new message\n",
    "message = \"This is a new message.\"\n",
    "\n",
    "# Print the new message\n",
    "print(message)"
   ]
  },
  {
   "cell_type": "code",
   "execution_count": null,
   "id": "390906f5",
   "metadata": {},
   "outputs": [],
   "source": []
  }
 ],
 "metadata": {
  "kernelspec": {
   "display_name": "Python 3 (ipykernel)",
   "language": "python",
   "name": "python3"
  },
  "language_info": {
   "codemirror_mode": {
    "name": "ipython",
    "version": 3
   },
   "file_extension": ".py",
   "mimetype": "text/x-python",
   "name": "python",
   "nbconvert_exporter": "python",
   "pygments_lexer": "ipython3",
   "version": "3.10.7"
  }
 },
 "nbformat": 4,
 "nbformat_minor": 5
}
