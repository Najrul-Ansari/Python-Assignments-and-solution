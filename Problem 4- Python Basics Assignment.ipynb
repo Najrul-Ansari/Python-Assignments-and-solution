{
 "cells": [
  {
   "cell_type": "code",
   "execution_count": 7,
   "id": "8a55f6e3",
   "metadata": {},
   "outputs": [
    {
     "name": "stdout",
     "output_type": "stream",
     "text": [
      "Winston Churchill once said, \"Success is not final, failure is not fatal: It is the courage to continue that counts.\"\n"
     ]
    }
   ],
   "source": [
    "#Giving quote and author\n",
    "quote = \"Success is not final, failure is not fatal: It is the courage to continue that counts.\"\n",
    "author = \"Winston Churchill\"\n",
    "\n",
    "#printing the quote and author\n",
    "print(f'{author} once said, \"{quote}\"')"
   ]
  },
  {
   "cell_type": "code",
   "execution_count": null,
   "id": "0aa3a09e",
   "metadata": {},
   "outputs": [],
   "source": []
  }
 ],
 "metadata": {
  "kernelspec": {
   "display_name": "Python 3 (ipykernel)",
   "language": "python",
   "name": "python3"
  },
  "language_info": {
   "codemirror_mode": {
    "name": "ipython",
    "version": 3
   },
   "file_extension": ".py",
   "mimetype": "text/x-python",
   "name": "python",
   "nbconvert_exporter": "python",
   "pygments_lexer": "ipython3",
   "version": "3.10.7"
  }
 },
 "nbformat": 4,
 "nbformat_minor": 5
}
